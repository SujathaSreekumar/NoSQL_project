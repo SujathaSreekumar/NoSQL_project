{
 "cells": [
  {
   "attachments": {},
   "cell_type": "markdown",
   "id": "f970121a",
   "metadata": {},
   "source": [
    "#### Import necessary libraries"
   ]
  },
  {
   "cell_type": "code",
   "execution_count": 5,
   "id": "2f336ed2",
   "metadata": {},
   "outputs": [
    {
     "name": "stdout",
     "output_type": "stream",
     "text": [
      "Collecting namesNote: you may need to restart the kernel to use updated packages.\n",
      "\n",
      "  Downloading names-0.3.0.tar.gz (789 kB)\n",
      "     -------------------------------------- 789.1/789.1 kB 8.3 MB/s eta 0:00:00\n",
      "  Preparing metadata (setup.py): started\n",
      "  Preparing metadata (setup.py): finished with status 'done'\n",
      "Building wheels for collected packages: names\n",
      "  Building wheel for names (setup.py): started\n",
      "  Building wheel for names (setup.py): finished with status 'done'\n",
      "  Created wheel for names: filename=names-0.3.0-py3-none-any.whl size=803682 sha256=e197cb3b2d20dc8291bb299ce039f9f0a188ed522c61e8f699ae0bc8b762192e\n",
      "  Stored in directory: c:\\users\\sujat\\appdata\\local\\pip\\cache\\wheels\\f1\\bc\\04\\55ab9499ea02359ece8b02b4169ebb30aa52d82b84c13fc506\n",
      "Successfully built names\n",
      "Installing collected packages: names\n",
      "Successfully installed names-0.3.0\n"
     ]
    }
   ],
   "source": [
    " # %pip install names"
   ]
  },
  {
   "cell_type": "code",
   "execution_count": 3,
   "id": "01971c5d",
   "metadata": {},
   "outputs": [],
   "source": [
    "import numpy as np\n",
    "import names\n"
   ]
  },
  {
   "cell_type": "code",
   "execution_count": 2,
   "id": "94c3c88e",
   "metadata": {},
   "outputs": [],
   "source": [
    "from pymongo import MongoClient\n",
    "\n",
    "client = MongoClient('mongodb://localhost:27017/')\n",
    "db = client['student_marks']\n",
    "collection = db['marks']"
   ]
  },
  {
   "attachments": {},
   "cell_type": "markdown",
   "id": "d5e71386",
   "metadata": {},
   "source": [
    "#### Entering Data into MongoDB"
   ]
  },
  {
   "cell_type": "code",
   "execution_count": 5,
   "id": "16e285df",
   "metadata": {},
   "outputs": [],
   "source": [
    "for i in range(125):\n",
    "    ch = np.random.randint(0,2)\n",
    "    if ch == 0:\n",
    "        name = names.get_first_name(gender='male')\n",
    "        gender = 'M'\n",
    "    elif ch == 1:\n",
    "        name = names.get_first_name(gender='female')\n",
    "        gender = 'F'    \n",
    "    roll = f'0{i+1}'\n",
    "    maths = np.random.randint(0, 100)\n",
    "    english = np.random.randint(0, 100)\n",
    "    physics = np.random.randint(0, 100)\n",
    "    chemistry = np.random.randint(0, 100)\n",
    "    biology = np.random.randint(0, 100)\n",
    "\n",
    "    record = {\n",
    "        'name': name,\n",
    "        'roll': roll,\n",
    "        'gender': gender,\n",
    "        'maths': maths,\n",
    "        'english': english,\n",
    "        'physics': physics,\n",
    "        'chemistry': chemistry,\n",
    "        'biology': biology\n",
    "    }\n",
    "    collection.insert_one(record)"
   ]
  },
  {
   "attachments": {},
   "cell_type": "markdown",
   "id": "48314e6d",
   "metadata": {},
   "source": [
    "#### Testing Query"
   ]
  },
  {
   "attachments": {},
   "cell_type": "markdown",
   "id": "ad5c48d2",
   "metadata": {},
   "source": [
    "Populating Database"
   ]
  },
  {
   "cell_type": "code",
   "execution_count": 14,
   "id": "5b4c4d46",
   "metadata": {},
   "outputs": [
    {
     "name": "stdout",
     "output_type": "stream",
     "text": [
      "{'name': 'Maria', 'gender': 'F', 'roll': '07', 'maths': 57, 'english': 90, 'physics': 31, 'chemistry': 71, 'biology': 81}\n",
      "{'name': 'Vincent', 'gender': 'M', 'roll': '08', 'maths': 54, 'english': 63, 'physics': 20, 'chemistry': 71, 'biology': 22}\n",
      "{'name': 'John', 'gender': 'M', 'roll': '09', 'maths': 76, 'english': 1, 'physics': 87, 'chemistry': 81, 'biology': 9}\n",
      "{'name': 'Michael', 'gender': 'M', 'roll': '010', 'maths': 99, 'english': 65, 'physics': 86, 'chemistry': 7, 'biology': 2}\n",
      "{'name': 'Erica', 'gender': 'F', 'roll': '011', 'maths': 2, 'english': 54, 'physics': 7, 'chemistry': 39, 'biology': 62}\n",
      "{'name': 'David', 'gender': 'M', 'roll': '012', 'maths': 85, 'english': 4, 'physics': 66, 'chemistry': 7, 'biology': 69}\n",
      "{'name': 'Terry', 'gender': 'M', 'roll': '013', 'maths': 67, 'english': 85, 'physics': 51, 'chemistry': 71, 'biology': 74}\n",
      "{'name': 'Laurence', 'gender': 'M', 'roll': '014', 'maths': 4, 'english': 18, 'physics': 34, 'chemistry': 33, 'biology': 55}\n",
      "{'name': 'Amanda', 'gender': 'F', 'roll': '015', 'maths': 17, 'english': 16, 'physics': 45, 'chemistry': 66, 'biology': 32}\n",
      "{'name': 'Antonio', 'gender': 'M', 'roll': '016', 'maths': 55, 'english': 48, 'physics': 84, 'chemistry': 78, 'biology': 74}\n"
     ]
    }
   ],
   "source": [
    "import names\n",
    "for i in range(10):\n",
    "    ch = np.random.randint(0,2)\n",
    "    if ch == 0:\n",
    "        name = names.get_first_name(gender='male')\n",
    "        gender = 'M'\n",
    "    elif ch == 1:\n",
    "        name = names.get_first_name(gender='female')\n",
    "        gender = 'F'\n",
    "    roll = f'0{i+7}'\n",
    "    maths = np.random.randint(0, 100)\n",
    "    english = np.random.randint(0, 100)\n",
    "    physics = np.random.randint(0, 100)\n",
    "    chemistry = np.random.randint(0, 100)\n",
    "    biology = np.random.randint(0, 100)\n",
    "\n",
    "    record = {\n",
    "        'name': name,\n",
    "        'gender': gender, \n",
    "        'roll': roll,\n",
    "        'maths': maths,\n",
    "        'english': english,\n",
    "        'physics': physics,\n",
    "        'chemistry': chemistry,\n",
    "        'biology': biology\n",
    "    }\n",
    "\n",
    "    print(record)"
   ]
  },
  {
   "attachments": {},
   "cell_type": "markdown",
   "id": "cd06f9f2",
   "metadata": {},
   "source": [
    "Editing record"
   ]
  },
  {
   "cell_type": "code",
   "execution_count": 11,
   "id": "bdc86f84",
   "metadata": {},
   "outputs": [
    {
     "data": {
      "text/plain": [
       "<pymongo.results.UpdateResult at 0x21223c47e50>"
      ]
     },
     "execution_count": 11,
     "metadata": {},
     "output_type": "execute_result"
    }
   ],
   "source": [
    "name_1 = 'Ally'\n",
    "roll_1 = '0126'\n",
    "maths = 1\n",
    "english = 2\n",
    "physics = 3\n",
    "chemistry = 4\n",
    "biology = 5\n",
    "collection.update_one(\n",
    "    {'roll' : roll_1, 'name': name_1},\n",
    "    {\n",
    "        '$set' :{\n",
    "            'maths': maths,\n",
    "            'english': english,\n",
    "            'physics': physics,\n",
    "            'chemistry': chemistry,\n",
    "            'biology': biology\n",
    "\n",
    "        }\n",
    "    }\n",
    ")"
   ]
  },
  {
   "attachments": {},
   "cell_type": "markdown",
   "id": "56b66257",
   "metadata": {},
   "source": [
    "Finding percentage"
   ]
  },
  {
   "cell_type": "code",
   "execution_count": 52,
   "metadata": {},
   "outputs": [
    {
     "name": "stdout",
     "output_type": "stream",
     "text": [
      "Jason 39.8\n"
     ]
    }
   ],
   "source": [
    "name_1 = 'Jason'\n",
    "roll_1 = '04'\n",
    "stud = list(collection.aggregate([\n",
    "    {'$match':{'roll':roll_1, 'name':name_1}},\n",
    "    {\n",
    "        '$addFields':{\n",
    "            'total_marks': {\n",
    "                '$sum':['$maths','$english','$physics','$chemistry','$biology']\n",
    "            }\n",
    "        }\n",
    "    },\n",
    "    {\n",
    "        '$addFields':{\n",
    "            'total_percentage':{\n",
    "                '$divide':['$total_marks',5]\n",
    "            }\n",
    "\n",
    "        }\n",
    "\n",
    "    }\n",
    "    ]))\n",
    "stud_detail = {}\n",
    "stud_detail = stud[0]\n",
    "print(stud_detail['name'],stud_detail['total_percentage'])"
   ]
  },
  {
   "attachments": {},
   "cell_type": "markdown",
   "id": "68c19544",
   "metadata": {},
   "source": [
    "Finding Percentile"
   ]
  },
  {
   "cell_type": "code",
   "execution_count": 143,
   "id": "b6505f43",
   "metadata": {},
   "outputs": [],
   "source": [
    "name_1 = 'Trista'\n",
    "roll_1 = '0121'\n",
    "# Get the target student\n",
    "target_student = collection.find_one({'name': name_1, 'roll': roll_1})\n",
    "\n",
    "# Get the total number of students\n",
    "total_students = collection.count_documents({})\n",
    "\n",
    "# Sort the student records by total marks in descending order\n",
    "pipeline = [\n",
    "    {\n",
    "        \n",
    "        '$project': {\n",
    "            'name': 1,\n",
    "            'roll': 1,\n",
    "            'total_marks': {\n",
    "                '$sum': ['$maths', '$english', '$physics', '$chemistry', '$biology']\n",
    "            }\n",
    "        }\n",
    "    },\n",
    "    {\n",
    "        '$sort': {'total_marks': -1}\n",
    "    }\n",
    "]\n",
    "sorted_students = list(collection.aggregate(pipeline))\n",
    "total_marks_list = [doc['total_marks'] for doc in sorted_students]\n",
    "\n",
    "# Find the rank of the target student\n",
    "for student in sorted_students:\n",
    "    if student['_id'] == target_student['_id']:\n",
    "        target_total_marks = student['total_marks']\n",
    "        students_less_than_target = len([marks for marks in total_marks_list if marks <= target_total_marks])\n",
    "        break\n",
    "\n",
    "# Calculate the percentile\n",
    "percentile = ( students_less_than_target / total_students) * 100\n",
    "\n",
    "list_of_toppers = []\n",
    "# Calculate class topper\n",
    "for student in sorted_students:\n",
    "    if student['total_marks'] == total_marks_list[0]:\n",
    "        list_of_toppers.append(student)\n",
    "\n",
    " "
   ]
  },
  {
   "cell_type": "code",
   "execution_count": 150,
   "id": "a28c384a",
   "metadata": {},
   "outputs": [
    {
     "name": "stdout",
     "output_type": "stream",
     "text": [
      "Ronnie\n"
     ]
    }
   ],
   "source": [
    "print(list_of_toppers[0]['name'])"
   ]
  },
  {
   "cell_type": "code",
   "execution_count": 142,
   "id": "9fe06e53",
   "metadata": {},
   "outputs": [
    {
     "name": "stdout",
     "output_type": "stream",
     "text": [
      "96.8\n"
     ]
    }
   ],
   "source": [
    "print(percentile)"
   ]
  },
  {
   "cell_type": "code",
   "execution_count": 136,
   "id": "8bbb0962",
   "metadata": {},
   "outputs": [
    {
     "data": {
      "text/plain": [
       "0.968"
      ]
     },
     "execution_count": 136,
     "metadata": {},
     "output_type": "execute_result"
    }
   ],
   "source": [
    "121/125"
   ]
  },
  {
   "cell_type": "code",
   "execution_count": 117,
   "id": "0ed3df06",
   "metadata": {},
   "outputs": [
    {
     "name": "stdout",
     "output_type": "stream",
     "text": [
      "[{'_id': ObjectId('64738660c439dff35e578fb4'), 'name': 'Ronnie', 'roll': '05', 'total_marks': 340}, {'_id': ObjectId('64738660c439dff35e578fb9'), 'name': 'Kathy', 'roll': '010', 'total_marks': 340}, {'_id': ObjectId('64738660c439dff35e578fc4'), 'name': 'Christopher', 'roll': '021', 'total_marks': 340}, {'_id': ObjectId('64738660c439dff35e57902b'), 'name': 'Paul', 'roll': '0124', 'total_marks': 340}, {'_id': ObjectId('64738660c439dff35e579028'), 'name': 'Trista', 'roll': '0121', 'total_marks': 339}, {'_id': ObjectId('64738660c439dff35e578fda'), 'name': 'William', 'roll': '043', 'total_marks': 338}, {'_id': ObjectId('64738660c439dff35e578fef'), 'name': 'Maria', 'roll': '064', 'total_marks': 337}, {'_id': ObjectId('64738660c439dff35e57901a'), 'name': 'Anne', 'roll': '0107', 'total_marks': 334}, {'_id': ObjectId('64738660c439dff35e578fc1'), 'name': 'Nathaniel', 'roll': '018', 'total_marks': 330}, {'_id': ObjectId('64738660c439dff35e578ff7'), 'name': 'Michael', 'roll': '072', 'total_marks': 327}, {'_id': ObjectId('64738660c439dff35e578fb7'), 'name': 'Heather', 'roll': '08', 'total_marks': 325}, {'_id': ObjectId('64738660c439dff35e57901e'), 'name': 'Elouise', 'roll': '0111', 'total_marks': 316}, {'_id': ObjectId('64738660c439dff35e578fc2'), 'name': 'Lucille', 'roll': '019', 'total_marks': 313}, {'_id': ObjectId('64738660c439dff35e57901c'), 'name': 'John', 'roll': '0109', 'total_marks': 313}, {'_id': ObjectId('64738660c439dff35e579009'), 'name': 'Judy', 'roll': '090', 'total_marks': 311}, {'_id': ObjectId('64738660c439dff35e57902c'), 'name': 'Santiago', 'roll': '0125', 'total_marks': 311}, {'_id': ObjectId('64738660c439dff35e578fd5'), 'name': 'Tammy', 'roll': '038', 'total_marks': 310}, {'_id': ObjectId('64738660c439dff35e578ff5'), 'name': 'Robert', 'roll': '070', 'total_marks': 308}, {'_id': ObjectId('64738660c439dff35e578fb5'), 'name': 'Eugene', 'roll': '06', 'total_marks': 307}, {'_id': ObjectId('64738660c439dff35e57900f'), 'name': 'Bessie', 'roll': '096', 'total_marks': 304}, {'_id': ObjectId('64738660c439dff35e579014'), 'name': 'Jo', 'roll': '0101', 'total_marks': 300}, {'_id': ObjectId('64738660c439dff35e57900c'), 'name': 'Timothy', 'roll': '093', 'total_marks': 299}, {'_id': ObjectId('64738660c439dff35e578fc7'), 'name': 'Katie', 'roll': '024', 'total_marks': 296}, {'_id': ObjectId('64738660c439dff35e578fd3'), 'name': 'Jeannette', 'roll': '036', 'total_marks': 293}, {'_id': ObjectId('64738660c439dff35e57902a'), 'name': 'Brian', 'roll': '0123', 'total_marks': 292}, {'_id': ObjectId('64738660c439dff35e578fd7'), 'name': 'Letty', 'roll': '040', 'total_marks': 289}, {'_id': ObjectId('64738660c439dff35e578fd2'), 'name': 'William', 'roll': '035', 'total_marks': 287}, {'_id': ObjectId('64738660c439dff35e578fcf'), 'name': 'Tony', 'roll': '032', 'total_marks': 286}, {'_id': ObjectId('64738660c439dff35e578ffb'), 'name': 'Douglas', 'roll': '076', 'total_marks': 286}, {'_id': ObjectId('64738660c439dff35e578fdb'), 'name': 'Ruth', 'roll': '044', 'total_marks': 284}, {'_id': ObjectId('64738660c439dff35e578fe8'), 'name': 'Samuel', 'roll': '057', 'total_marks': 282}, {'_id': ObjectId('64738660c439dff35e579022'), 'name': 'Mary', 'roll': '0115', 'total_marks': 278}, {'_id': ObjectId('64738660c439dff35e57900e'), 'name': 'Hyman', 'roll': '095', 'total_marks': 277}, {'_id': ObjectId('64738660c439dff35e579011'), 'name': 'David', 'roll': '098', 'total_marks': 276}, {'_id': ObjectId('64738660c439dff35e578ffd'), 'name': 'Robert', 'roll': '078', 'total_marks': 274}, {'_id': ObjectId('64738660c439dff35e578feb'), 'name': 'Samuel', 'roll': '060', 'total_marks': 273}, {'_id': ObjectId('64738660c439dff35e578ff4'), 'name': 'Maria', 'roll': '069', 'total_marks': 273}, {'_id': ObjectId('64738660c439dff35e57900a'), 'name': 'Samuel', 'roll': '091', 'total_marks': 273}, {'_id': ObjectId('64738660c439dff35e57900b'), 'name': 'Carrie', 'roll': '092', 'total_marks': 273}, {'_id': ObjectId('64738660c439dff35e579018'), 'name': 'Timothy', 'roll': '0105', 'total_marks': 273}, {'_id': ObjectId('64738660c439dff35e578fd0'), 'name': 'Douglas', 'roll': '033', 'total_marks': 272}, {'_id': ObjectId('64738660c439dff35e578fe1'), 'name': 'Fidel', 'roll': '050', 'total_marks': 269}, {'_id': ObjectId('64738660c439dff35e578fe3'), 'name': 'Richard', 'roll': '052', 'total_marks': 269}, {'_id': ObjectId('64738660c439dff35e578fb6'), 'name': 'Walter', 'roll': '07', 'total_marks': 267}, {'_id': ObjectId('64738660c439dff35e578fdd'), 'name': 'Thomas', 'roll': '046', 'total_marks': 266}, {'_id': ObjectId('64738660c439dff35e578fb0'), 'name': 'Margaret', 'roll': '01', 'total_marks': 265}, {'_id': ObjectId('64738660c439dff35e578fb2'), 'name': 'Carolyn', 'roll': '03', 'total_marks': 265}, {'_id': ObjectId('64738660c439dff35e578ff0'), 'name': 'Geri', 'roll': '065', 'total_marks': 265}, {'_id': ObjectId('64738660c439dff35e578fea'), 'name': 'Gene', 'roll': '059', 'total_marks': 262}, {'_id': ObjectId('64738660c439dff35e578fc0'), 'name': 'Brandon', 'roll': '017', 'total_marks': 261}, {'_id': ObjectId('64738660c439dff35e578fc5'), 'name': 'Judy', 'roll': '022', 'total_marks': 261}, {'_id': ObjectId('64738660c439dff35e578ffe'), 'name': 'Leon', 'roll': '079', 'total_marks': 261}, {'_id': ObjectId('64738660c439dff35e578fe6'), 'name': 'Danilo', 'roll': '055', 'total_marks': 259}, {'_id': ObjectId('64738660c439dff35e579024'), 'name': 'Willie', 'roll': '0117', 'total_marks': 259}, {'_id': ObjectId('64738660c439dff35e578fed'), 'name': 'Claudette', 'roll': '062', 'total_marks': 257}, {'_id': ObjectId('64738660c439dff35e578fc3'), 'name': 'Byron', 'roll': '020', 'total_marks': 255}, {'_id': ObjectId('64738660c439dff35e578fd4'), 'name': 'Tracy', 'roll': '037', 'total_marks': 253}, {'_id': ObjectId('64738660c439dff35e579006'), 'name': 'Bernard', 'roll': '087', 'total_marks': 252}, {'_id': ObjectId('64738660c439dff35e578fc6'), 'name': 'Gary', 'roll': '023', 'total_marks': 251}, {'_id': ObjectId('64738660c439dff35e578fd8'), 'name': 'James', 'roll': '041', 'total_marks': 250}, {'_id': ObjectId('64738660c439dff35e578fe5'), 'name': 'Lee', 'roll': '054', 'total_marks': 250}, {'_id': ObjectId('64738660c439dff35e579029'), 'name': 'Kenneth', 'roll': '0122', 'total_marks': 249}, {'_id': ObjectId('64738660c439dff35e578fee'), 'name': 'Douglas', 'roll': '063', 'total_marks': 247}, {'_id': ObjectId('64738660c439dff35e578ff9'), 'name': 'Alphonse', 'roll': '074', 'total_marks': 244}, {'_id': ObjectId('64738660c439dff35e579000'), 'name': 'Pamela', 'roll': '081', 'total_marks': 243}, {'_id': ObjectId('64738660c439dff35e578fc9'), 'name': 'Sandra', 'roll': '026', 'total_marks': 241}, {'_id': ObjectId('64738660c439dff35e578fba'), 'name': 'Joseph', 'roll': '011', 'total_marks': 240}, {'_id': ObjectId('64738660c439dff35e578fd1'), 'name': 'Dawn', 'roll': '034', 'total_marks': 239}, {'_id': ObjectId('64738660c439dff35e579003'), 'name': 'Annie', 'roll': '084', 'total_marks': 239}, {'_id': ObjectId('64738660c439dff35e579002'), 'name': 'Karyn', 'roll': '083', 'total_marks': 238}, {'_id': ObjectId('64738660c439dff35e578fe4'), 'name': 'Wayne', 'roll': '053', 'total_marks': 237}, {'_id': ObjectId('64738660c439dff35e578fc8'), 'name': 'Anthony', 'roll': '025', 'total_marks': 235}, {'_id': ObjectId('64738660c439dff35e579023'), 'name': 'Ross', 'roll': '0116', 'total_marks': 235}, {'_id': ObjectId('64738660c439dff35e579012'), 'name': 'Sara', 'roll': '099', 'total_marks': 233}, {'_id': ObjectId('64738660c439dff35e578ff6'), 'name': 'Paula', 'roll': '071', 'total_marks': 230}, {'_id': ObjectId('64738660c439dff35e578ff8'), 'name': 'Terri', 'roll': '073', 'total_marks': 227}, {'_id': ObjectId('64738660c439dff35e579020'), 'name': 'Michael', 'roll': '0113', 'total_marks': 225}, {'_id': ObjectId('64738660c439dff35e578fcd'), 'name': 'Roy', 'roll': '030', 'total_marks': 224}, {'_id': ObjectId('64738660c439dff35e578fe2'), 'name': 'Zachary', 'roll': '051', 'total_marks': 224}, {'_id': ObjectId('64738660c439dff35e578fe7'), 'name': 'Micah', 'roll': '056', 'total_marks': 224}, {'_id': ObjectId('64738660c439dff35e579027'), 'name': 'Jesus', 'roll': '0120', 'total_marks': 224}, {'_id': ObjectId('64738660c439dff35e57901d'), 'name': 'Lisa', 'roll': '0110', 'total_marks': 223}, {'_id': ObjectId('64738660c439dff35e578fbc'), 'name': 'Robin', 'roll': '013', 'total_marks': 221}, {'_id': ObjectId('64738660c439dff35e57901f'), 'name': 'Bonnie', 'roll': '0112', 'total_marks': 221}, {'_id': ObjectId('64738660c439dff35e578ff3'), 'name': 'Holly', 'roll': '068', 'total_marks': 220}, {'_id': ObjectId('64738660c439dff35e578ffc'), 'name': 'Carrie', 'roll': '077', 'total_marks': 220}, {'_id': ObjectId('64738660c439dff35e578fdf'), 'name': 'Sallie', 'roll': '048', 'total_marks': 217}, {'_id': ObjectId('64738660c439dff35e579016'), 'name': 'Michael', 'roll': '0103', 'total_marks': 217}, {'_id': ObjectId('64738660c439dff35e578fcb'), 'name': 'Evelin', 'roll': '028', 'total_marks': 216}, {'_id': ObjectId('64738660c439dff35e578fff'), 'name': 'Frances', 'roll': '080', 'total_marks': 215}, {'_id': ObjectId('64738660c439dff35e579005'), 'name': 'Jerry', 'roll': '086', 'total_marks': 215}, {'_id': ObjectId('64738660c439dff35e579008'), 'name': 'Jason', 'roll': '089', 'total_marks': 213}, {'_id': ObjectId('64738660c439dff35e579010'), 'name': 'Winona', 'roll': '097', 'total_marks': 209}, {'_id': ObjectId('64738660c439dff35e57901b'), 'name': 'David', 'roll': '0108', 'total_marks': 209}, {'_id': ObjectId('64738660c439dff35e579025'), 'name': 'Jack', 'roll': '0118', 'total_marks': 209}, {'_id': ObjectId('64738660c439dff35e578fd6'), 'name': 'Charles', 'roll': '039', 'total_marks': 208}, {'_id': ObjectId('64738660c439dff35e578fe9'), 'name': 'Jasmine', 'roll': '058', 'total_marks': 208}, {'_id': ObjectId('64738660c439dff35e578ff2'), 'name': 'Julie', 'roll': '067', 'total_marks': 207}, {'_id': ObjectId('64738660c439dff35e57900d'), 'name': 'Jane', 'roll': '094', 'total_marks': 205}, {'_id': ObjectId('64738660c439dff35e578fbe'), 'name': 'Stephen', 'roll': '015', 'total_marks': 204}, {'_id': ObjectId('64738660c439dff35e579015'), 'name': 'Donald', 'roll': '0102', 'total_marks': 204}, {'_id': ObjectId('64738660c439dff35e578fb3'), 'name': 'Jason', 'roll': '04', 'total_marks': 199}, {'_id': ObjectId('64738660c439dff35e578fde'), 'name': 'Edward', 'roll': '047', 'total_marks': 195}, {'_id': ObjectId('64738660c439dff35e578fce'), 'name': 'Ernest', 'roll': '031', 'total_marks': 191}, {'_id': ObjectId('64738660c439dff35e578fdc'), 'name': 'Sophie', 'roll': '045', 'total_marks': 187}, {'_id': ObjectId('64738660c439dff35e578fbf'), 'name': 'Ronald', 'roll': '016', 'total_marks': 185}, {'_id': ObjectId('64738660c439dff35e578fb1'), 'name': 'Christina', 'roll': '02', 'total_marks': 181}, {'_id': ObjectId('64738660c439dff35e578fbb'), 'name': 'Joseph', 'roll': '012', 'total_marks': 179}, {'_id': ObjectId('64738660c439dff35e579026'), 'name': 'John', 'roll': '0119', 'total_marks': 178}, {'_id': ObjectId('64738660c439dff35e578ffa'), 'name': 'Dale', 'roll': '075', 'total_marks': 176}, {'_id': ObjectId('64738660c439dff35e579013'), 'name': 'Fern', 'roll': '0100', 'total_marks': 174}, {'_id': ObjectId('64738660c439dff35e579017'), 'name': 'Marie', 'roll': '0104', 'total_marks': 171}, {'_id': ObjectId('64738660c439dff35e578fe0'), 'name': 'Karen', 'roll': '049', 'total_marks': 163}, {'_id': ObjectId('64738660c439dff35e579007'), 'name': 'James', 'roll': '088', 'total_marks': 163}, {'_id': ObjectId('64738660c439dff35e578fb8'), 'name': 'Jake', 'roll': '09', 'total_marks': 160}, {'_id': ObjectId('64738660c439dff35e578ff1'), 'name': 'Kathryn', 'roll': '066', 'total_marks': 154}, {'_id': ObjectId('64738660c439dff35e579021'), 'name': 'Juan', 'roll': '0114', 'total_marks': 151}, {'_id': ObjectId('64738660c439dff35e578fd9'), 'name': 'Charles', 'roll': '042', 'total_marks': 140}, {'_id': ObjectId('64738660c439dff35e578fec'), 'name': 'Douglas', 'roll': '061', 'total_marks': 139}, {'_id': ObjectId('64738660c439dff35e578fbd'), 'name': 'Margarette', 'roll': '014', 'total_marks': 136}, {'_id': ObjectId('64738660c439dff35e578fcc'), 'name': 'Donald', 'roll': '029', 'total_marks': 121}, {'_id': ObjectId('64738660c439dff35e579001'), 'name': 'Adam', 'roll': '082', 'total_marks': 120}, {'_id': ObjectId('64738660c439dff35e579004'), 'name': 'Trevor', 'roll': '085', 'total_marks': 119}, {'_id': ObjectId('64738660c439dff35e579019'), 'name': 'Lorrine', 'roll': '0106', 'total_marks': 107}, {'_id': ObjectId('64738660c439dff35e578fca'), 'name': 'Mary', 'roll': '027', 'total_marks': 87}]\n"
     ]
    }
   ],
   "source": [
    "print(list(sorted_students))"
   ]
  },
  {
   "attachments": {},
   "cell_type": "markdown",
   "id": "2ae85391",
   "metadata": {},
   "source": [
    "Deleting record"
   ]
  },
  {
   "cell_type": "code",
   "execution_count": 10,
   "id": "051104fb",
   "metadata": {},
   "outputs": [
    {
     "data": {
      "text/plain": [
       "<pymongo.results.DeleteResult at 0x21226e45820>"
      ]
     },
     "execution_count": 10,
     "metadata": {},
     "output_type": "execute_result"
    }
   ],
   "source": [
    "name_1 = 'Ally'\n",
    "roll_1 = '0126'\n",
    "collection.delete_one({'roll' : roll_1, 'name': name_1})"
   ]
  },
  {
   "cell_type": "code",
   "execution_count": null,
   "id": "48c5dca3",
   "metadata": {},
   "outputs": [],
   "source": []
  },
  {
   "cell_type": "code",
   "execution_count": null,
   "id": "dd488374",
   "metadata": {},
   "outputs": [],
   "source": []
  }
 ],
 "metadata": {
  "kernelspec": {
   "display_name": "Python 3 (ipykernel)",
   "language": "python",
   "name": "python3"
  },
  "language_info": {
   "codemirror_mode": {
    "name": "ipython",
    "version": 3
   },
   "file_extension": ".py",
   "mimetype": "text/x-python",
   "name": "python",
   "nbconvert_exporter": "python",
   "pygments_lexer": "ipython3",
   "version": "3.9.13"
  }
 },
 "nbformat": 4,
 "nbformat_minor": 5
}
